{
  "cells": [
    {
      "cell_type": "markdown",
      "metadata": {
        "id": "view-in-github",
        "colab_type": "text"
      },
      "source": [
        "<a href=\"https://colab.research.google.com/github/Wonhochoi123/Auto-NPS/blob/main/NPS_Email_Survey.ipynb\" target=\"_parent\"><img src=\"https://colab.research.google.com/assets/colab-badge.svg\" alt=\"Open In Colab\"/></a>"
      ]
    },
    {
      "cell_type": "code",
      "execution_count": null,
      "id": "729ae5b1-76b9-4009-8039-a49ccaf99d0f",
      "metadata": {
        "id": "729ae5b1-76b9-4009-8039-a49ccaf99d0f"
      },
      "outputs": [],
      "source": [
        ""
      ]
    },
    {
      "cell_type": "code",
      "execution_count": null,
      "id": "cae37d51-03bd-47d2-a095-71cd5dc1e2c8",
      "metadata": {
        "id": "cae37d51-03bd-47d2-a095-71cd5dc1e2c8"
      },
      "outputs": [],
      "source": [
        "import smtplib, ssl\n",
        "import datetime\n",
        "import pytz\n",
        "from email.mime.text import MIMEText\n",
        "from email.mime.image     import MIMEImage\n",
        "from email.mime.multipart import MIMEMultipart \n",
        "from email.header import Header\n",
        "from email.utils import formataddr\n",
        "\n",
        "def send_email(to, name, site=None):\n",
        "    \n",
        "    EMAIL_ADDRESS=EMAIL_ADDRESS\n",
        "    EMAIL_PASSWORD=EMAIL_PASSWORD\n",
        "    time=datetime.datetime.now(pytz.timezone('PST8PDT'))\n",
        "    Body=''\n",
        "    bod_g_m = \"<br>Good morning, \"\n",
        "    bod_g_a = \"<br>Good afternoon, \"\n",
        "    hr_now=time.strftime(\"%H\")\n",
        "    if int(hr_now)<12:\n",
        "        Body=bod_g_m+name+'. \\n\\n'\n",
        "    elif int(hr_now)>=12:\n",
        "        Body=bod_g_a+name+'. \\n\\n'\n",
        "    \n",
        "    logo=\"\"\"<table border=\"0\" cellpadding=\"0\" cellspacing=\"0\" style=\"min-width:100%;width:100%;background:#ffffff;background-color:#ffffff\" bgcolor=\"#ffffff\" align=\"left\" valign=\"top\" role=\"presentation\">\n",
        "\n",
        "\n",
        "<tbody><tr><td>\n",
        "  \n",
        "  <table border=\"0\" cellpadding=\"0\" cellspacing=\"0\" style=\"min-width:600px;width:600px;max-width:600px;margin:0 auto\" align=\"center\" valign=\"top\" role=\"presentation\">\n",
        " \n",
        "<tbody><tr><td dir=\"ltr\" style=\"padding:0px 16px\">\n",
        "  \n",
        "        <img src=\"https://raw.githubusercontent.com/Wonhochoi123/Business-profile-/main/Premier-Ladscaping-Logo-Client%20survey.jpg\" width=\"500\" alt=\"Premier Landscaping Survey\" vspace=\"20\" align=\"left\" class=\"CToWUd\">\n",
        "  \n",
        "   \n",
        "</td></tr></tbody></table> \n",
        "</td></tr></tbody></table>\"\"\"\n",
        "\n",
        "\n",
        "\n",
        "    style=\"font:'Segoe UI';color:#444444;font-size:14px;font-weight:500;line-height:24px;margin:0 auto;padding:0;max-width:600px\"\n",
        "\n",
        "    style_b=\"\"\"style=\"margin:0 16px 32px 16px;font-size:22px;font-weight:500;line-height:24px;font:'Segoe UI'\" \"\"\"\n",
        "            \n",
        "\n",
        "\n",
        "    if site==None:\n",
        "      site=\"\"\n",
        "    else:\n",
        "      site=\": \"+site\n",
        "\n",
        "    Body1=f\"\"\"<p {style_b}>{Body}</p><p {style_b}>We noticed that you have been satisfied by our works!<br>Thank you very much for your supports.<br>\n",
        "    Please let us know about one more thing, and take our special treat for you!</p>\"\"\"\n",
        "\n",
        "    Vok=\"\"\"<div><img width=\"623\" height=\"114\" style=\"width:6.4916in;height:1.1916in\" id=\"m_8007618776936348383Picture_x0020_5\" src=\"https://raw.githubusercontent.com/Wonhochoi123/Business-profile-/main/Wonho%20Logo.png\" data-image-whitelisted=\"\" class=\"CToWUd a6T\" </div>\"\"\"    \n",
        "    msg = MIMEMultipart('related')\n",
        "    msg['Subject'] =f'Special Client Care for {name} (Week-{time.isocalendar()[1]})'\n",
        "    msg['From']=  formataddr((str(Header(\"Premier Client-Care \", 'utf-8')), EMAIL_ADDRESS))\n",
        "\n",
        "    msg['To']=to\n",
        "    \n",
        "    \n",
        "    \n",
        "\n",
        "\n",
        "    # write the HTML part \n",
        "    html = f\"\"\"\n",
        "\n",
        "\n",
        "\n",
        "\n",
        "\n",
        "\n",
        "\n",
        "<!DOCTYPE html PUBLIC \"-//W3C//DTD XHTML 1.0 Transitional//EN\" \"http://www.w3.org/TR/xhtml1/DTD/xhtml1-transitional.dtd\">\n",
        "<html>\n",
        "   <body style=\"margin-top: 0;margin-bottom: 0;margin-left: 0;margin-right: 0;padding-top: 0;padding-bottom: 0;padding-left: 0;padding-right: 0;min-width: 100%;background-color: #ffffff\">\n",
        "      <table class=\"main-wrapper\" style=\"border-collapse: collapse;border-spacing: 0;display: table;table-layout: fixed; margin: 0 auto; -webkit-text-size-adjust: 100%;-ms-text-size-adjust: 100%;text-rendering: optimizeLegibility;background-color: #f5f5f5; width: 100%;\">\n",
        "         <tbody>\n",
        "            <tr>\n",
        "               <td style=\"padding: 0;vertical-align: top\" class=\"\">\n",
        "                  <div class=\"bottom-padding\" style=\"margin-bottom: 0px; line-height: 30px; font-size: 30px;\">\n",
        "                  &nbsp;\n",
        "                  {logo}\n",
        "\n",
        "                  </div>\n",
        "               </td>\n",
        "            </tr>\n",
        "            <tr>\n",
        "               <td style=\"padding: 0;vertical-align: top; width: 100%;\" class=\"\">\n",
        "                  <center>\n",
        "                  {Body1}\n",
        "                     <!--[if gte mso 11]>\n",
        "                     <center>\n",
        "                        <table>\n",
        "                           <tr>\n",
        "                           \n",
        "                              <td class=\"ms-sixhundred-table\" width=\"900\">\n",
        "                                 <![endif]-->\n",
        "                              \n",
        "                                 <table class=\"main-content\" style=\"width: 100%; max-width: 900; border-collapse: separate;border-spacing: 0;margin-left: auto;margin-right: auto; border: 1px solid #EAEAEA; border-radius: 4px; -webkit-border-radius: 4px; -moz-border-radius: 4px; background-color: #ffffff; overflow: hidden;\" width=\"900\">\n",
        "                                    <tbody>\n",
        "                                       <tr>\n",
        "                                       \n",
        "                                          <td style=\"padding: 0;vertical-align: top;\">\n",
        "                                             <table class=\"main-content\" style=\"border-collapse: collapse;border-spacing: 0;margin-left: auto;margin-right: auto;width: 100%; max-width: 600px;\">\n",
        "                                                <tbody>\n",
        "                                                   <tr>\n",
        "                                                      <td style=\"padding: 0;vertical-align: top;text-align: left\">\n",
        "                                                         <table class=\"contents\" style=\"border-collapse: collapse;border-spacing: 0;width: 100%;\">\n",
        "                                                            <tbody>\n",
        "                                                               <tr>\n",
        "                                                                  <td class=\"content-padding\" style=\"padding: 0;vertical-align: top\">\n",
        "                                                                     <div style=\"margin-bottom: 0px; line-height: 30px; font-size: 30px;\">&nbsp;</div>\n",
        "                                                                     <div class=\"body-copy\" style=\"margin: 0;\">\n",
        "                                                                        <div style=\"margin: 0;font:'Segoe UI';color:#444444;font-size: 50px;line-height: 20px; text-align: left;\">\n",
        "                                                                           <div class=\"bottom-padding\" style=\"margin-bottom: 0px; line-height: 15px; font-size: 15px;\">&nbsp;</div>\n",
        "                                                                           <div style=\"text-align: center; margin: 0; font-size: 25px;  text-transform: uppercase; font:'Segoe UI'; letter-spacing: .5px;\">How likely are you to recommend us to a friend or colleague?</div>\n",
        "                                                                           <div class=\"bottom-padding\" style=\"margin-bottom: 0px; line-height: 7px; font-size: 7px;\">&nbsp;</div>\n",
        "                                                                           <div style=\"width: 100%; text-align: center; float: left;\">\n",
        "                                                                              <div class=\"rating\" style=\"text-align: center; margin: 0; font-size: 50px; width: 275px; margin: 0 auto; margin-top: 10px;\">\n",
        "                                                                                 <table style=\"border-collapse: collapse;border-spacing: 0;width: 275px; margin: 0 auto; font-size: 50px; direction: rtl;\" dir=\"rtl\">\n",
        "                                                                                    <tbody>\n",
        "                                                                                       <tr>\n",
        "                                                                                          <td style=\"padding: 0;vertical-align: top;\" width=\"55\" class=\"star-wrapper\" lang=\"x-star-wrapper\">\n",
        "                                                                                             <div style=\"display: block; text-align: center; float: left;width: 55px;overflow: hidden;line-height: 60px;\">\n",
        "                                                                                                <a href=\"https://docs.google.com/forms/d/e/1FAIpQLScVvkkW4AJBal02vcENCscRruMR8gkXvrvdRv8lly6xdKXUxg/formResponse?usp=pp_url&entry.1292526259={to}&entry.60878973={name}&entry.1670033460=5&submit=SUBMIT\" class=\"star\" target=\"_blank\" lang=\"x-star-divbox\" style=\"color: #FFCC00; text-decoration: none; display: inline-block;height: 50px;width: 55px;overflow: hidden;line-height: 60px;\" tabindex=\"1\">\n",
        "                                                                                                   <div lang=\"x-empty-star\" style=\"margin: 0;display: inline-block;\">☆</div>\n",
        "                                                                                                   <div lang=\"x-full-star\" style=\"margin: 0;display: inline-block; width:0; overflow:hidden;float:left; display:none; height: 0; max-height: 0;\">★</div>\n",
        "                                                                                                </a>\n",
        "                                                                                                <a href=\"https://docs.google.com/forms/d/e/1FAIpQLScVvkkW4AJBal02vcENCscRruMR8gkXvrvdRv8lly6xdKXUxg/formResponse?usp=pp_url&entry.1292526259={to}&entry.60878973={name}&entry.1670033460=5&submit=SUBMIT\" class=\"star-number\" target=\"_blank\" lang=\"x-star-number\" style=\";font:'Segoe UI'; font-size: 10px; line-height: 14px; text-decoration: none; display: block;height: 50px;width: 55px;overflow: hidden;line-height: 60px;border-bottom: 3px solid #FFFFFF; text-align: center;\">Very likely</a>\n",
        "                                                                                             </div>\n",
        "                                                                                          </td>\n",
        "                                                                                          <td style=\"padding: 0;vertical-align: top\" width=\"55\" class=\"star-wrapper\" lang=\"x-star-wrapper\">\n",
        "                                                                                             <div style=\"display: block; text-align: center; float: left;width: 55px;overflow: hidden;line-height: 60px;\">\n",
        "                                                                                                <a href=\"https://docs.google.com/forms/d/e/1FAIpQLScVvkkW4AJBal02vcENCscRruMR8gkXvrvdRv8lly6xdKXUxg/formResponse?usp=pp_url&entry.1292526259={to}&entry.60878973={name}&entry.1670033460=4&submit=SUBMIT\" class=\"star\" target=\"_blank\" lang=\"x-star-divbox\" style=\"color: #FFCC00; text-decoration: none; display: inline-block;height: 50px;width: 55px;overflow: hidden;line-height: 60px;\" tabindex=\"2\">\n",
        "                                                                                                   <div lang=\"x-empty-star\" style=\"margin: 0;display: inline-block;\">☆</div>\n",
        "                                                                                                   <div lang=\"x-full-star\" style=\"margin: 0;display: inline-block; width:0; overflow:hidden;float:left; display:none; height: 0; max-height: 0;\">★</div>\n",
        "                                                                                                </a>\n",
        "                                                                                                <a href=\"https://docs.google.com/forms/d/e/1FAIpQLScVvkkW4AJBal02vcENCscRruMR8gkXvrvdRv8lly6xdKXUxg/formResponse?usp=pp_url&entry.1292526259={to}&entry.60878973={name}&entry.1670033460=4&submit=SUBMIT\" class=\"star-number\" target=\"_blank\" lang=\"x-star-number\" style=\";font:'Segoe UI'; font-size: 10px; line-height: 14px; text-decoration: none; display: block;height: 50px;width: 55px;overflow: hidden;line-height: 60px;border-bottom: 3px solid #FFFFFF; text-align: center;\">Likely</a>\n",
        "                                                                                             </div>\n",
        "                                                                                          </td>\n",
        "                                                                                          <td style=\"padding: 0;vertical-align: top\" width=\"55\" class=\"star-wrapper\" lang=\"x-star-wrapper\">\n",
        "                                                                                             <div style=\"display: block; text-align: center; float: left;width: 55px;overflow: hidden;line-height: 60px;\">\n",
        "                                                                                                <a href=\"https://docs.google.com/forms/d/e/1FAIpQLScVvkkW4AJBal02vcENCscRruMR8gkXvrvdRv8lly6xdKXUxg/formResponse?usp=pp_url&entry.1292526259={to}&entry.60878973={name}&entry.1670033460=3&submit=SUBMIT\" class=\"star\" target=\"_blank\" lang=\"x-star-divbox\" style=\"color: #FFCC00; text-decoration: none; display: inline-block;height: 50px;width: 55px;overflow: hidden;line-height: 60px;\" tabindex=\"3\">\n",
        "                                                                                                   <div lang=\"x-empty-star\" style=\"margin: 0;display: inline-block;\">☆</div>\n",
        "                                                                                                   <div lang=\"x-full-star\" style=\"margin: 0;display: inline-block; width:0; overflow:hidden;float:left; display:none; height: 0; max-height: 0;\">★</div>\n",
        "                                                                                                </a>\n",
        "                                                                                                <a href=\"https://docs.google.com/forms/d/e/1FAIpQLScVvkkW4AJBal02vcENCscRruMR8gkXvrvdRv8lly6xdKXUxg/formResponse?usp=pp_url&entry.1292526259={to}&entry.60878973={name}&entry.1670033460=3&submit=SUBMIT\" class=\"star-number\" target=\"_blank\" lang=\"x-star-number\" style=\";font:'Segoe UI'; font-size: 10px; line-height: 14px; text-decoration: none; display: block;height: 50px;width: 55px;overflow: hidden;line-height: 60px;border-bottom: 3px solid #FFFFFF; text-align: center;\">Somewhat</a>\n",
        "                                                                                             </div>\n",
        "                                                                                          </td>\n",
        "                                                                                          <td style=\"padding: 0;vertical-align: top\" width=\"55\" class=\"star-wrapper\" lang=\"x-star-wrapper\">\n",
        "                                                                                             <div style=\"display: block; text-align: center; float: left;width: 55px;overflow: hidden;line-height: 60px;\">\n",
        "                                                                                                <a href=\"https://docs.google.com/forms/d/e/1FAIpQLScVvkkW4AJBal02vcENCscRruMR8gkXvrvdRv8lly6xdKXUxg/formResponse?usp=pp_url&entry.1292526259={to}&entry.60878973={name}&entry.1670033460=2&submit=SUBMIT\" class=\"star\" target=\"_blank\" lang=\"x-star-divbox\" style=\"color: #FFCC00; text-decoration: none; display: inline-block;height: 50px;width: 55px;overflow: hidden;line-height: 60px;\" tabindex=\"4\">\n",
        "                                                                                                   <div lang=\"x-empty-star\" style=\"margin: 0;display: inline-block;\">☆</div>\n",
        "                                                                                                   <div lang=\"x-full-star\" style=\"margin: 0;display: inline-block; width:0; overflow:hidden;float:left; display:none; height: 0; max-height: 0;\">★</div>\n",
        "                                                                                                </a>\n",
        "                                                                                                <a href=\"https://docs.google.com/forms/d/e/1FAIpQLScVvkkW4AJBal02vcENCscRruMR8gkXvrvdRv8lly6xdKXUxg/formResponse?usp=pp_url&entry.1292526259={to}&entry.60878973={name}&entry.1670033460=2&submit=SUBMIT\" class=\"star-number\" target=\"_blank\" lang=\"x-star-number\" style=\";font:'Segoe UI'; font-size: 10px; line-height: 14px; text-decoration: none; display: block;height: 50px;width: 55px;overflow: hidden;line-height: 60px;border-bottom: 3px solid #FFFFFF; text-align: center;\">Not much</a>\n",
        "                                                                                             </div>\n",
        "                                                                                          </td>\n",
        "                                                                                          <td style=\"padding: 0;vertical-align: top\" width=\"55\" class=\"star-wrapper\" lang=\"x-star-wrapper\">\n",
        "                                                                                             <div style=\"display: block; text-align: center; float: left;width: 55px;overflow: hidden;line-height: 60px;\">\n",
        "                                                                                                <a href=\"https://docs.google.com/forms/d/e/1FAIpQLScVvkkW4AJBal02vcENCscRruMR8gkXvrvdRv8lly6xdKXUxg/formResponse?usp=pp_url&entry.1292526259={to}&entry.60878973={name}&entry.1670033460=1&submit=SUBMIT\" class=\"star\" target=\"_blank\" lang=\"x-star-divbox\" style=\"color: #FFCC00; text-decoration: none; display: inline-block;height: 50px;width: 55px;overflow: hidden;line-height: 60px;\" tabindex=\"5\">\n",
        "                                                                                                   <div lang=\"x-empty-star\" style=\"margin: 0;display: inline-block;\">☆</div>\n",
        "                                                                                                   <div lang=\"x-full-star\" style=\"margin: 0;display: inline-block; width:0; overflow:hidden;float:left; display:none; height: 0; max-height: 0;\">★</div>\n",
        "                                                                                                </a>\n",
        "                                                                                                <a href=\"https://docs.google.com/forms/d/e/1FAIpQLScVvkkW4AJBal02vcENCscRruMR8gkXvrvdRv8lly6xdKXUxg/formResponse?usp=pp_url&entry.1292526259={to}&entry.60878973={name}&entry.1670033460=1&submit=SUBMIT\" class=\"star-number\" target=\"_blank\" lang=\"x-star-number\" style=\";font:'Segoe UI'; font-size: 10px; line-height: 14px; text-decoration: none; display: block;height: 50px;width: 55px;overflow: hidden;line-height: 60px;border-bottom: 3px solid #FFFFFF; text-align: center;\">Not at all</a>\n",
        "                                                                                             </div>\n",
        "                                                                                          </td>\n",
        "                                                                                       </tr>\n",
        "                                                                                    </tbody>\n",
        "                                                                                 </table>\n",
        "                                                                                 \n",
        "                                                                              </div>\n",
        "                                                                           </div>\n",
        "                                                                           <div style=\"margin-bottom: 0px; line-height: 30px; font-size: 30px;\">&nbsp;</div>\n",
        "                                                                        </div>\n",
        "                                                                     </div>\n",
        "                                                                  </td>\n",
        "                                                               </tr>\n",
        "                                                            </tbody>\n",
        "                                                         </table>\n",
        "                                                         \n",
        "                                                      </td>\n",
        "                                                   </tr>\n",
        "                                                </tbody>\n",
        "                                             </table>\n",
        "                                          </td>\n",
        "                                       </tr>\n",
        "                                    </tbody>\n",
        "                                 </table>\n",
        "                                 {Vok}\n",
        "                                 <!--[if gte mso 11]>\n",
        "                              </td>\n",
        "                           </tr>\n",
        "                        </table>\n",
        "                     </center>\n",
        "                     <![endif]-->\n",
        "                  </center>\n",
        "               </td>\n",
        "            </tr>\n",
        "         </tbody>\n",
        "      </table>\n",
        "   </body>\n",
        "</html>\n",
        "\n",
        "\n",
        "\n",
        "\n",
        "\n",
        "\n",
        "\n",
        "\n",
        "\n",
        "    \n",
        "    \n",
        "    \"\"\"\n",
        "    # convert both parts to MIMEText objects and add them to the MIMEMultipart message \n",
        "\n",
        "    part1 = MIMEText(html, \"html\") \n",
        "    msg.attach(part1)\n",
        "    \n",
        "    \n",
        "\n",
        "\n",
        "    with smtplib.SMTP('smtp.outlook.com',587) as smtp:\n",
        "        smtp.ehlo()\n",
        "        smtp.starttls()\n",
        "        smtp.ehlo()\n",
        "  \n",
        "\n",
        "        smtp.login(EMAIL_ADDRESS,EMAIL_PASSWORD)\n",
        "        smtp.sendmail( EMAIL_ADDRESS, to, msg.as_string() )\n",
        "        smtp.quit()\n",
        "\n",
        "    print(f\"{name} at {site}, email: {to} successfully sent\")\n"
      ]
    },
    {
      "cell_type": "code",
      "execution_count": null,
      "id": "8ac71bd2-bf5b-4601-9e30-20f819713426",
      "metadata": {
        "id": "8ac71bd2-bf5b-4601-9e30-20f819713426"
      },
      "outputs": [],
      "source": [
        ""
      ]
    },
    {
      "cell_type": "code",
      "source": [
        ""
      ],
      "metadata": {
        "id": "CrF2TQ5gQRgE"
      },
      "id": "CrF2TQ5gQRgE",
      "execution_count": null,
      "outputs": []
    },
    {
      "cell_type": "markdown",
      "source": [
        ""
      ],
      "metadata": {
        "id": "T29Iecocmcub"
      },
      "id": "T29Iecocmcub"
    },
    {
      "cell_type": "code",
      "source": [
        ""
      ],
      "metadata": {
        "id": "rQ1BGv06QRj6"
      },
      "id": "rQ1BGv06QRj6",
      "execution_count": null,
      "outputs": []
    },
    {
      "cell_type": "code",
      "source": [
        ""
      ],
      "metadata": {
        "id": "ZfzIlbqPQRnY"
      },
      "id": "ZfzIlbqPQRnY",
      "execution_count": null,
      "outputs": []
    },
    {
      "cell_type": "code",
      "execution_count": null,
      "id": "0bf34ce8",
      "metadata": {
        "id": "0bf34ce8"
      },
      "outputs": [],
      "source": [
        ""
      ]
    },
    {
      "cell_type": "code",
      "execution_count": null,
      "id": "837588b3",
      "metadata": {
        "id": "837588b3"
      },
      "outputs": [],
      "source": [
        ""
      ]
    },
    {
      "cell_type": "code",
      "source": [
        ""
      ],
      "metadata": {
        "id": "JSQJ3uXN52Zb"
      },
      "id": "JSQJ3uXN52Zb",
      "execution_count": null,
      "outputs": []
    },
    {
      "cell_type": "code",
      "source": [
        ""
      ],
      "metadata": {
        "id": "xwnMglHX6E_W"
      },
      "id": "xwnMglHX6E_W",
      "execution_count": null,
      "outputs": []
    },
    {
      "cell_type": "code",
      "source": [
        ""
      ],
      "metadata": {
        "id": "loWbrt_B6dH5",
        "colab": {
          "base_uri": "https://localhost:8080/"
        },
        "outputId": "34d59d22-27e6-4a16-e601-0fc46a7b94b8"
      },
      "id": "loWbrt_B6dH5",
      "execution_count": null,
      "outputs": [
        {
          "output_type": "execute_result",
          "data": {
            "text/plain": [
              "4"
            ]
          },
          "metadata": {},
          "execution_count": 60
        }
      ]
    },
    {
      "cell_type": "code",
      "source": [
        ""
      ],
      "metadata": {
        "id": "yc1HfTmO_9HV"
      },
      "id": "yc1HfTmO_9HV",
      "execution_count": null,
      "outputs": []
    },
    {
      "cell_type": "code",
      "source": [
        ""
      ],
      "metadata": {
        "id": "0YuZAtg9aao4"
      },
      "id": "0YuZAtg9aao4",
      "execution_count": null,
      "outputs": []
    }
  ],
  "metadata": {
    "kernelspec": {
      "display_name": "Python 3 (ipykernel)",
      "language": "python",
      "name": "python3"
    },
    "language_info": {
      "codemirror_mode": {
        "name": "ipython",
        "version": 3
      },
      "file_extension": ".py",
      "mimetype": "text/x-python",
      "name": "python",
      "nbconvert_exporter": "python",
      "pygments_lexer": "ipython3",
      "version": "3.9.7"
    },
    "colab": {
      "name": "NPS Email-Survey.ipynb",
      "provenance": [],
      "include_colab_link": true
    }
  },
  "nbformat": 4,
  "nbformat_minor": 5
}